{
 "cells": [
  {
   "metadata": {
    "ExecuteTime": {
     "end_time": "2025-04-09T20:21:23.881501Z",
     "start_time": "2025-04-09T20:21:22.018055Z"
    }
   },
   "cell_type": "code",
   "source": [
    "import pandas as pd\n",
    "from ydata_profiling import ProfileReport"
   ],
   "id": "17b16e8121d2e3c4",
   "outputs": [],
   "execution_count": 1
  },
  {
   "metadata": {
    "ExecuteTime": {
     "end_time": "2025-04-09T20:21:24.026984Z",
     "start_time": "2025-04-09T20:21:23.884902Z"
    }
   },
   "cell_type": "code",
   "source": "df = pd.read_csv('data/processed_data.csv')\n",
   "id": "51310b41cae683fa",
   "outputs": [],
   "execution_count": 2
  },
  {
   "metadata": {
    "ExecuteTime": {
     "end_time": "2025-04-09T20:21:49.448002Z",
     "start_time": "2025-04-09T20:21:43.694652Z"
    }
   },
   "cell_type": "code",
   "source": [
    "# Make Profile report\n",
    "profile = ProfileReport(df, title=\"Processed Data Profile\", explorative = True)\n",
    "\n",
    "# Save report as a html\n",
    "profile.to_file('processed_profile.html')"
   ],
   "id": "8662e8aeacf432d6",
   "outputs": [
    {
     "data": {
      "text/plain": [
       "Summarize dataset:   0%|          | 0/5 [00:00<?, ?it/s]"
      ],
      "application/vnd.jupyter.widget-view+json": {
       "version_major": 2,
       "version_minor": 0,
       "model_id": "0c241569eb864978a1bc641efc429b3e"
      }
     },
     "metadata": {},
     "output_type": "display_data"
    },
    {
     "data": {
      "text/plain": [
       "Generate report structure:   0%|          | 0/1 [00:00<?, ?it/s]"
      ],
      "application/vnd.jupyter.widget-view+json": {
       "version_major": 2,
       "version_minor": 0,
       "model_id": "714a9ba99e8f494bba66df31ea5bf091"
      }
     },
     "metadata": {},
     "output_type": "display_data"
    },
    {
     "data": {
      "text/plain": [
       "Render HTML:   0%|          | 0/1 [00:00<?, ?it/s]"
      ],
      "application/vnd.jupyter.widget-view+json": {
       "version_major": 2,
       "version_minor": 0,
       "model_id": "5040e47438ac496e902e54a533055ea5"
      }
     },
     "metadata": {},
     "output_type": "display_data"
    },
    {
     "data": {
      "text/plain": [
       "Export report to file:   0%|          | 0/1 [00:00<?, ?it/s]"
      ],
      "application/vnd.jupyter.widget-view+json": {
       "version_major": 2,
       "version_minor": 0,
       "model_id": "49b3a805b27f47a4aec0704878f5d3ca"
      }
     },
     "metadata": {},
     "output_type": "display_data"
    }
   ],
   "execution_count": 3
  },
  {
   "metadata": {},
   "cell_type": "code",
   "outputs": [],
   "execution_count": null,
   "source": "",
   "id": "2f1ec30624bfcb62"
  }
 ],
 "metadata": {
  "kernelspec": {
   "display_name": "Python 3",
   "language": "python",
   "name": "python3"
  },
  "language_info": {
   "codemirror_mode": {
    "name": "ipython",
    "version": 2
   },
   "file_extension": ".py",
   "mimetype": "text/x-python",
   "name": "python",
   "nbconvert_exporter": "python",
   "pygments_lexer": "ipython2",
   "version": "2.7.6"
  }
 },
 "nbformat": 4,
 "nbformat_minor": 5
}
