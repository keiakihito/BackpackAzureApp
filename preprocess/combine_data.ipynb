{
 "cells": [
  {
   "cell_type": "code",
   "id": "initial_id",
   "metadata": {
    "collapsed": true,
    "ExecuteTime": {
     "end_time": "2025-04-09T19:33:05.633191Z",
     "start_time": "2025-04-09T19:33:05.356223Z"
    }
   },
   "source": "import pandas as pd",
   "outputs": [],
   "execution_count": 1
  },
  {
   "metadata": {
    "ExecuteTime": {
     "end_time": "2025-04-09T19:57:02.296639Z",
     "start_time": "2025-04-09T19:56:59.556316Z"
    }
   },
   "cell_type": "code",
   "source": [
    "# Read data\n",
    "train = pd.read_csv('data/train.csv')\n",
    "extra = pd.read_csv('data/training_extra.csv')"
   ],
   "id": "2c1312931c14ccee",
   "outputs": [],
   "execution_count": 12
  },
  {
   "metadata": {
    "ExecuteTime": {
     "end_time": "2025-04-09T19:57:03.283894Z",
     "start_time": "2025-04-09T19:57:02.989370Z"
    }
   },
   "cell_type": "code",
   "source": [
    "# Consolidate with id\n",
    "df = pd.merge(train, extra, on='id', how='left')"
   ],
   "id": "7cc1abe2096fdfd5",
   "outputs": [],
   "execution_count": 13
  },
  {
   "metadata": {
    "ExecuteTime": {
     "end_time": "2025-04-09T19:57:03.895211Z",
     "start_time": "2025-04-09T19:57:03.890199Z"
    }
   },
   "cell_type": "code",
   "source": [
    "print(\"📋 df.columns:\")\n",
    "for col in df.columns:\n",
    "    print(f\" - {col}\")\n"
   ],
   "id": "eddae8537b948e83",
   "outputs": [
    {
     "name": "stdout",
     "output_type": "stream",
     "text": [
      "📋 df.columns:\n",
      " - id\n",
      " - Brand_x\n",
      " - Material_x\n",
      " - Size_x\n",
      " - Compartments_x\n",
      " - Laptop Compartment_x\n",
      " - Waterproof_x\n",
      " - Style_x\n",
      " - Color_x\n",
      " - Weight Capacity (kg)_x\n",
      " - Price_x\n",
      " - Brand_y\n",
      " - Material_y\n",
      " - Size_y\n",
      " - Compartments_y\n",
      " - Laptop Compartment_y\n",
      " - Waterproof_y\n",
      " - Style_y\n",
      " - Color_y\n",
      " - Weight Capacity (kg)_y\n",
      " - Price_y\n"
     ]
    }
   ],
   "execution_count": 14
  },
  {
   "metadata": {
    "ExecuteTime": {
     "end_time": "2025-04-09T20:05:09.172094Z",
     "start_time": "2025-04-09T20:05:09.164574Z"
    }
   },
   "cell_type": "code",
   "source": [
    "# Define Combined columns\n",
    "base_columns = {\n",
    "    \"brand\": [\"Brand_x\", \"Brand_y\"],\n",
    "    \"price\": [\"Price_x\", \"Price_y\"],\n",
    "    \"weight_capacity_kg\": [\"Weight Capacity (kg)_x\", \"Weight Capacity (kg)_y\"],\n",
    "    \"waterproof\": [\"Waterproof_x\", \"Waterproof_y\"],\n",
    "    \"size\": [\"Size_x\", \"Size_y\"],\n",
    "    \"color\": [\"Color_x\", \"Color_y\"],\n",
    "    \"style\": [\"Style_x\", \"Style_y\"],\n",
    "    \"compartments\": [\"Compartments_x\", \"Compartments_y\"]\n",
    "}"
   ],
   "id": "9389dbb46593d0e4",
   "outputs": [],
   "execution_count": 15
  },
  {
   "metadata": {
    "ExecuteTime": {
     "end_time": "2025-04-09T20:07:14.276027Z",
     "start_time": "2025-04-09T20:07:14.204794Z"
    }
   },
   "cell_type": "code",
   "source": [
    "# Integrate columns\n",
    "for new_col, (x_col, y_col) in base_columns.items():\n",
    "    df[new_col] = df[x_col].combine_first(df[y_col])"
   ],
   "id": "d7b3696edc7bc78c",
   "outputs": [],
   "execution_count": 17
  },
  {
   "metadata": {
    "ExecuteTime": {
     "end_time": "2025-04-09T20:09:12.070239Z",
     "start_time": "2025-04-09T20:09:12.065736Z"
    }
   },
   "cell_type": "code",
   "source": [
    "# Integrate other columns\n",
    "optional_columns = []\n",
    "if \"release_date\" in df.columns:\n",
    "    df[\"release_date\"] = pd.to_datetime(df[\"release_date\"], errors=\"coerce\")\n",
    "    optional_columns.append(\"release_date\")\n",
    "if \"category\" in df.columns:\n",
    "    optional_columns.append(\"category\")"
   ],
   "id": "21ac7b2beaba66e0",
   "outputs": [],
   "execution_count": 18
  },
  {
   "metadata": {
    "ExecuteTime": {
     "end_time": "2025-04-09T20:10:44.321863Z",
     "start_time": "2025-04-09T20:10:44.292621Z"
    }
   },
   "cell_type": "code",
   "source": [
    "# waterproof Yes/No => 1/0\n",
    "df[\"waterproof\"] = df[\"waterproof\"].map({\"Yes\": 1, \"No\": 0})"
   ],
   "id": "a82e670794755c01",
   "outputs": [],
   "execution_count": 19
  },
  {
   "metadata": {
    "ExecuteTime": {
     "end_time": "2025-04-09T20:11:29.254485Z",
     "start_time": "2025-04-09T20:11:29.250888Z"
    }
   },
   "cell_type": "code",
   "source": [
    "# Desired columns to extract from df\n",
    "final_columns = [\"id\"] + list(base_columns.keys()) + optional_columns"
   ],
   "id": "26eecdab96c52cd2",
   "outputs": [],
   "execution_count": 20
  },
  {
   "metadata": {
    "ExecuteTime": {
     "end_time": "2025-04-09T20:15:26.151468Z",
     "start_time": "2025-04-09T20:15:26.144186Z"
    }
   },
   "cell_type": "code",
   "source": [
    "# Check the column exist to prevent typo\n",
    "print('Exist column in df.columns to check my intended column')\n",
    "for col in final_columns:\n",
    "    if col in df.columns:\n",
    "        print(f\" - {col} √\")\n",
    "    else:\n",
    "        print(f\" - {col} X (NOT FOUND)\")"
   ],
   "id": "c313869e44efed6c",
   "outputs": [
    {
     "name": "stdout",
     "output_type": "stream",
     "text": [
      "Exist column in df.columns to check my intended column\n",
      " - id √\n",
      " - brand √\n",
      " - price √\n",
      " - weight_capacity_kg √\n",
      " - waterproof √\n",
      " - size √\n",
      " - color √\n",
      " - style √\n",
      " - compartments √\n"
     ]
    }
   ],
   "execution_count": 21
  },
  {
   "metadata": {
    "ExecuteTime": {
     "end_time": "2025-04-09T20:17:00.835420Z",
     "start_time": "2025-04-09T20:17:00.754582Z"
    }
   },
   "cell_type": "code",
   "source": [
    "# Extract data from specified column\n",
    "df_clean = df[final_columns].dropna()"
   ],
   "id": "16c42d2ef31e1a64",
   "outputs": [],
   "execution_count": 22
  },
  {
   "metadata": {
    "ExecuteTime": {
     "end_time": "2025-04-09T20:17:53.072484Z",
     "start_time": "2025-04-09T20:17:53.054972Z"
    }
   },
   "cell_type": "code",
   "source": "df_clean.head(5)",
   "id": "37f5de44a870910b",
   "outputs": [
    {
     "data": {
      "text/plain": [
       "   id         brand      price  weight_capacity_kg  waterproof    size  color  \\\n",
       "0   0      Jansport  112.15875           11.611723         0.0  Medium  Black   \n",
       "1   1      Jansport   68.88056           27.078537         1.0   Small  Green   \n",
       "2   2  Under Armour   39.17320           16.643760         0.0   Small    Red   \n",
       "3   3          Nike   80.60793           12.937220         0.0   Small  Green   \n",
       "4   4        Adidas   86.02312           17.749338         1.0  Medium  Green   \n",
       "\n",
       "       style  compartments  \n",
       "0       Tote           7.0  \n",
       "1  Messenger          10.0  \n",
       "2  Messenger           2.0  \n",
       "3  Messenger           8.0  \n",
       "4  Messenger           1.0  "
      ],
      "text/html": [
       "<div>\n",
       "<style scoped>\n",
       "    .dataframe tbody tr th:only-of-type {\n",
       "        vertical-align: middle;\n",
       "    }\n",
       "\n",
       "    .dataframe tbody tr th {\n",
       "        vertical-align: top;\n",
       "    }\n",
       "\n",
       "    .dataframe thead th {\n",
       "        text-align: right;\n",
       "    }\n",
       "</style>\n",
       "<table border=\"1\" class=\"dataframe\">\n",
       "  <thead>\n",
       "    <tr style=\"text-align: right;\">\n",
       "      <th></th>\n",
       "      <th>id</th>\n",
       "      <th>brand</th>\n",
       "      <th>price</th>\n",
       "      <th>weight_capacity_kg</th>\n",
       "      <th>waterproof</th>\n",
       "      <th>size</th>\n",
       "      <th>color</th>\n",
       "      <th>style</th>\n",
       "      <th>compartments</th>\n",
       "    </tr>\n",
       "  </thead>\n",
       "  <tbody>\n",
       "    <tr>\n",
       "      <th>0</th>\n",
       "      <td>0</td>\n",
       "      <td>Jansport</td>\n",
       "      <td>112.15875</td>\n",
       "      <td>11.611723</td>\n",
       "      <td>0.0</td>\n",
       "      <td>Medium</td>\n",
       "      <td>Black</td>\n",
       "      <td>Tote</td>\n",
       "      <td>7.0</td>\n",
       "    </tr>\n",
       "    <tr>\n",
       "      <th>1</th>\n",
       "      <td>1</td>\n",
       "      <td>Jansport</td>\n",
       "      <td>68.88056</td>\n",
       "      <td>27.078537</td>\n",
       "      <td>1.0</td>\n",
       "      <td>Small</td>\n",
       "      <td>Green</td>\n",
       "      <td>Messenger</td>\n",
       "      <td>10.0</td>\n",
       "    </tr>\n",
       "    <tr>\n",
       "      <th>2</th>\n",
       "      <td>2</td>\n",
       "      <td>Under Armour</td>\n",
       "      <td>39.17320</td>\n",
       "      <td>16.643760</td>\n",
       "      <td>0.0</td>\n",
       "      <td>Small</td>\n",
       "      <td>Red</td>\n",
       "      <td>Messenger</td>\n",
       "      <td>2.0</td>\n",
       "    </tr>\n",
       "    <tr>\n",
       "      <th>3</th>\n",
       "      <td>3</td>\n",
       "      <td>Nike</td>\n",
       "      <td>80.60793</td>\n",
       "      <td>12.937220</td>\n",
       "      <td>0.0</td>\n",
       "      <td>Small</td>\n",
       "      <td>Green</td>\n",
       "      <td>Messenger</td>\n",
       "      <td>8.0</td>\n",
       "    </tr>\n",
       "    <tr>\n",
       "      <th>4</th>\n",
       "      <td>4</td>\n",
       "      <td>Adidas</td>\n",
       "      <td>86.02312</td>\n",
       "      <td>17.749338</td>\n",
       "      <td>1.0</td>\n",
       "      <td>Medium</td>\n",
       "      <td>Green</td>\n",
       "      <td>Messenger</td>\n",
       "      <td>1.0</td>\n",
       "    </tr>\n",
       "  </tbody>\n",
       "</table>\n",
       "</div>"
      ]
     },
     "execution_count": 23,
     "metadata": {},
     "output_type": "execute_result"
    }
   ],
   "execution_count": 23
  },
  {
   "metadata": {
    "ExecuteTime": {
     "end_time": "2025-04-09T20:18:53.099811Z",
     "start_time": "2025-04-09T20:18:52.458994Z"
    }
   },
   "cell_type": "code",
   "source": [
    "df_clean.to_csv('data/processed_data.csv', index=False)\n",
    "print(f\"✅processed_data.csv created!!✅\")"
   ],
   "id": "470e7afd63fad61d",
   "outputs": [
    {
     "name": "stdout",
     "output_type": "stream",
     "text": [
      "✅processed_data.csv created!!✅\n"
     ]
    }
   ],
   "execution_count": 24
  },
  {
   "metadata": {},
   "cell_type": "code",
   "outputs": [],
   "execution_count": null,
   "source": "",
   "id": "fa82b254e7324967"
  }
 ],
 "metadata": {
  "kernelspec": {
   "display_name": "Python 3",
   "language": "python",
   "name": "python3"
  },
  "language_info": {
   "codemirror_mode": {
    "name": "ipython",
    "version": 2
   },
   "file_extension": ".py",
   "mimetype": "text/x-python",
   "name": "python",
   "nbconvert_exporter": "python",
   "pygments_lexer": "ipython2",
   "version": "2.7.6"
  }
 },
 "nbformat": 4,
 "nbformat_minor": 5
}
